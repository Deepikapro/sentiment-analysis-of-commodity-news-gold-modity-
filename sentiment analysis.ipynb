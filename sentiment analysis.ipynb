{
 "cells": [
  {
   "cell_type": "code",
   "execution_count": 1,
   "id": "52f03d06",
   "metadata": {},
   "outputs": [],
   "source": [
    "import numpy as np\n",
    "import pandas as pd\n",
    "import matplotlib.pyplot as plt\n",
    "import seaborn as sns\n",
    "#Applying the text cleaning\n",
    "import re\n",
    "import string\n"
   ]
  },
  {
   "cell_type": "code",
   "execution_count": 2,
   "id": "9d75c6f9",
   "metadata": {},
   "outputs": [],
   "source": [
    "from sklearn.model_selection import train_test_split\n",
    "from sklearn.feature_extraction.text import TfidfVectorizer\n",
    "from sklearn.linear_model import LogisticRegression\n",
    "from sklearn.metrics import confusion_matrix\n",
    "from sklearn.metrics import accuracy_score\n",
    "from sklearn.feature_extraction.text import TfidfVectorizer\n",
    "from sklearn.svm import SVC\n",
    "import pickle"
   ]
  },
  {
   "cell_type": "code",
   "execution_count": 3,
   "id": "d70760f9",
   "metadata": {},
   "outputs": [],
   "source": [
    "#reading the csv data\n",
    "df=pd.read_csv(\"C:/Users/Deepika/Downloads/archive.zip\")"
   ]
  },
  {
   "cell_type": "code",
   "execution_count": 4,
   "id": "6ff9f457",
   "metadata": {},
   "outputs": [
    {
     "data": {
      "text/html": [
       "<div>\n",
       "<style scoped>\n",
       "    .dataframe tbody tr th:only-of-type {\n",
       "        vertical-align: middle;\n",
       "    }\n",
       "\n",
       "    .dataframe tbody tr th {\n",
       "        vertical-align: top;\n",
       "    }\n",
       "\n",
       "    .dataframe thead th {\n",
       "        text-align: right;\n",
       "    }\n",
       "</style>\n",
       "<table border=\"1\" class=\"dataframe\">\n",
       "  <thead>\n",
       "    <tr style=\"text-align: right;\">\n",
       "      <th></th>\n",
       "      <th>Dates</th>\n",
       "      <th>URL</th>\n",
       "      <th>News</th>\n",
       "      <th>Price Direction Up</th>\n",
       "      <th>Price Direction Constant</th>\n",
       "      <th>Price Direction Down</th>\n",
       "      <th>Asset Comparision</th>\n",
       "      <th>Past Information</th>\n",
       "      <th>Future Information</th>\n",
       "      <th>Price Sentiment</th>\n",
       "    </tr>\n",
       "  </thead>\n",
       "  <tbody>\n",
       "    <tr>\n",
       "      <th>0</th>\n",
       "      <td>28-01-2016</td>\n",
       "      <td>http://www.marketwatch.com/story/april-gold-do...</td>\n",
       "      <td>april gold down 20 cents to settle at $1,116.1...</td>\n",
       "      <td>0</td>\n",
       "      <td>0</td>\n",
       "      <td>1</td>\n",
       "      <td>0</td>\n",
       "      <td>1</td>\n",
       "      <td>0</td>\n",
       "      <td>negative</td>\n",
       "    </tr>\n",
       "    <tr>\n",
       "      <th>1</th>\n",
       "      <td>13-09-2017</td>\n",
       "      <td>http://www.marketwatch.com/story/gold-prices-s...</td>\n",
       "      <td>gold suffers third straight daily decline</td>\n",
       "      <td>0</td>\n",
       "      <td>0</td>\n",
       "      <td>1</td>\n",
       "      <td>0</td>\n",
       "      <td>1</td>\n",
       "      <td>0</td>\n",
       "      <td>negative</td>\n",
       "    </tr>\n",
       "    <tr>\n",
       "      <th>2</th>\n",
       "      <td>26-07-2016</td>\n",
       "      <td>http://www.marketwatch.com/story/gold-futures-...</td>\n",
       "      <td>Gold futures edge up after two-session decline</td>\n",
       "      <td>1</td>\n",
       "      <td>0</td>\n",
       "      <td>0</td>\n",
       "      <td>0</td>\n",
       "      <td>1</td>\n",
       "      <td>0</td>\n",
       "      <td>positive</td>\n",
       "    </tr>\n",
       "    <tr>\n",
       "      <th>3</th>\n",
       "      <td>28-02-2018</td>\n",
       "      <td>https://www.metalsdaily.com/link/277199/dent-r...</td>\n",
       "      <td>dent research : is gold's day in the sun comin...</td>\n",
       "      <td>0</td>\n",
       "      <td>0</td>\n",
       "      <td>0</td>\n",
       "      <td>0</td>\n",
       "      <td>0</td>\n",
       "      <td>1</td>\n",
       "      <td>none</td>\n",
       "    </tr>\n",
       "    <tr>\n",
       "      <th>4</th>\n",
       "      <td>06-09-2017</td>\n",
       "      <td>http://www.marketwatch.com/story/gold-steadies...</td>\n",
       "      <td>Gold snaps three-day rally as Trump, lawmakers...</td>\n",
       "      <td>0</td>\n",
       "      <td>0</td>\n",
       "      <td>1</td>\n",
       "      <td>0</td>\n",
       "      <td>1</td>\n",
       "      <td>0</td>\n",
       "      <td>negative</td>\n",
       "    </tr>\n",
       "    <tr>\n",
       "      <th>...</th>\n",
       "      <td>...</td>\n",
       "      <td>...</td>\n",
       "      <td>...</td>\n",
       "      <td>...</td>\n",
       "      <td>...</td>\n",
       "      <td>...</td>\n",
       "      <td>...</td>\n",
       "      <td>...</td>\n",
       "      <td>...</td>\n",
       "      <td>...</td>\n",
       "    </tr>\n",
       "    <tr>\n",
       "      <th>10565</th>\n",
       "      <td>07-01-2013</td>\n",
       "      <td>https://www.moneycontrol.com/news/business/mar...</td>\n",
       "      <td>gold seen falling from 3-week high this week</td>\n",
       "      <td>0</td>\n",
       "      <td>0</td>\n",
       "      <td>1</td>\n",
       "      <td>0</td>\n",
       "      <td>1</td>\n",
       "      <td>0</td>\n",
       "      <td>negative</td>\n",
       "    </tr>\n",
       "    <tr>\n",
       "      <th>10566</th>\n",
       "      <td>27-09-2018</td>\n",
       "      <td>https://www.metalsdaily.com/link/284468/domini...</td>\n",
       "      <td>dominic frisby : now looks like a good time to...</td>\n",
       "      <td>1</td>\n",
       "      <td>0</td>\n",
       "      <td>0</td>\n",
       "      <td>0</td>\n",
       "      <td>0</td>\n",
       "      <td>1</td>\n",
       "      <td>positive</td>\n",
       "    </tr>\n",
       "    <tr>\n",
       "      <th>10567</th>\n",
       "      <td>03-03-2017</td>\n",
       "      <td>https://www.thehindubusinessline.com/markets/g...</td>\n",
       "      <td>Gold heading for worst week since November on ...</td>\n",
       "      <td>0</td>\n",
       "      <td>0</td>\n",
       "      <td>1</td>\n",
       "      <td>0</td>\n",
       "      <td>1</td>\n",
       "      <td>0</td>\n",
       "      <td>negative</td>\n",
       "    </tr>\n",
       "    <tr>\n",
       "      <th>10568</th>\n",
       "      <td>11-06-2008</td>\n",
       "      <td>http://www.marketwatch.com/story/august-gold-u...</td>\n",
       "      <td>august gold up $7.60 at $878.80 an ounce on nymex</td>\n",
       "      <td>1</td>\n",
       "      <td>0</td>\n",
       "      <td>0</td>\n",
       "      <td>0</td>\n",
       "      <td>1</td>\n",
       "      <td>0</td>\n",
       "      <td>positive</td>\n",
       "    </tr>\n",
       "    <tr>\n",
       "      <th>10569</th>\n",
       "      <td>01-10-2007</td>\n",
       "      <td>http://www.marketwatch.com/story/december-gold...</td>\n",
       "      <td>december gold down $1 at $749 an ounce on nymex</td>\n",
       "      <td>0</td>\n",
       "      <td>0</td>\n",
       "      <td>1</td>\n",
       "      <td>0</td>\n",
       "      <td>1</td>\n",
       "      <td>0</td>\n",
       "      <td>negative</td>\n",
       "    </tr>\n",
       "  </tbody>\n",
       "</table>\n",
       "<p>10570 rows × 10 columns</p>\n",
       "</div>"
      ],
      "text/plain": [
       "            Dates                                                URL  \\\n",
       "0      28-01-2016  http://www.marketwatch.com/story/april-gold-do...   \n",
       "1      13-09-2017  http://www.marketwatch.com/story/gold-prices-s...   \n",
       "2      26-07-2016  http://www.marketwatch.com/story/gold-futures-...   \n",
       "3      28-02-2018  https://www.metalsdaily.com/link/277199/dent-r...   \n",
       "4      06-09-2017  http://www.marketwatch.com/story/gold-steadies...   \n",
       "...           ...                                                ...   \n",
       "10565  07-01-2013  https://www.moneycontrol.com/news/business/mar...   \n",
       "10566  27-09-2018  https://www.metalsdaily.com/link/284468/domini...   \n",
       "10567  03-03-2017  https://www.thehindubusinessline.com/markets/g...   \n",
       "10568  11-06-2008  http://www.marketwatch.com/story/august-gold-u...   \n",
       "10569  01-10-2007  http://www.marketwatch.com/story/december-gold...   \n",
       "\n",
       "                                                    News  Price Direction Up  \\\n",
       "0      april gold down 20 cents to settle at $1,116.1...                   0   \n",
       "1              gold suffers third straight daily decline                   0   \n",
       "2         Gold futures edge up after two-session decline                   1   \n",
       "3      dent research : is gold's day in the sun comin...                   0   \n",
       "4      Gold snaps three-day rally as Trump, lawmakers...                   0   \n",
       "...                                                  ...                 ...   \n",
       "10565       gold seen falling from 3-week high this week                   0   \n",
       "10566  dominic frisby : now looks like a good time to...                   1   \n",
       "10567  Gold heading for worst week since November on ...                   0   \n",
       "10568  august gold up $7.60 at $878.80 an ounce on nymex                   1   \n",
       "10569    december gold down $1 at $749 an ounce on nymex                   0   \n",
       "\n",
       "       Price Direction Constant  Price Direction Down  Asset Comparision  \\\n",
       "0                             0                     1                  0   \n",
       "1                             0                     1                  0   \n",
       "2                             0                     0                  0   \n",
       "3                             0                     0                  0   \n",
       "4                             0                     1                  0   \n",
       "...                         ...                   ...                ...   \n",
       "10565                         0                     1                  0   \n",
       "10566                         0                     0                  0   \n",
       "10567                         0                     1                  0   \n",
       "10568                         0                     0                  0   \n",
       "10569                         0                     1                  0   \n",
       "\n",
       "       Past Information  Future Information Price Sentiment  \n",
       "0                     1                   0        negative  \n",
       "1                     1                   0        negative  \n",
       "2                     1                   0        positive  \n",
       "3                     0                   1            none  \n",
       "4                     1                   0        negative  \n",
       "...                 ...                 ...             ...  \n",
       "10565                 1                   0        negative  \n",
       "10566                 0                   1        positive  \n",
       "10567                 1                   0        negative  \n",
       "10568                 1                   0        positive  \n",
       "10569                 1                   0        negative  \n",
       "\n",
       "[10570 rows x 10 columns]"
      ]
     },
     "execution_count": 4,
     "metadata": {},
     "output_type": "execute_result"
    }
   ],
   "source": [
    "df"
   ]
  },
  {
   "cell_type": "code",
   "execution_count": 5,
   "id": "33db1f02",
   "metadata": {},
   "outputs": [
    {
     "data": {
      "text/plain": [
       "(10570, 10)"
      ]
     },
     "execution_count": 5,
     "metadata": {},
     "output_type": "execute_result"
    }
   ],
   "source": [
    " df.shape"
   ]
  },
  {
   "cell_type": "code",
   "execution_count": 6,
   "id": "2782ee12",
   "metadata": {},
   "outputs": [
    {
     "name": "stdout",
     "output_type": "stream",
     "text": [
      "<class 'pandas.core.frame.DataFrame'>\n",
      "RangeIndex: 10570 entries, 0 to 10569\n",
      "Data columns (total 10 columns):\n",
      " #   Column                    Non-Null Count  Dtype \n",
      "---  ------                    --------------  ----- \n",
      " 0   Dates                     10570 non-null  object\n",
      " 1   URL                       10570 non-null  object\n",
      " 2   News                      10570 non-null  object\n",
      " 3   Price Direction Up        10570 non-null  int64 \n",
      " 4   Price Direction Constant  10570 non-null  int64 \n",
      " 5   Price Direction Down      10570 non-null  int64 \n",
      " 6   Asset Comparision         10570 non-null  int64 \n",
      " 7   Past Information          10570 non-null  int64 \n",
      " 8   Future Information        10570 non-null  int64 \n",
      " 9   Price Sentiment           10570 non-null  object\n",
      "dtypes: int64(6), object(4)\n",
      "memory usage: 825.9+ KB\n"
     ]
    }
   ],
   "source": [
    "df.info()"
   ]
  },
  {
   "cell_type": "code",
   "execution_count": 7,
   "id": "5f26c6ee",
   "metadata": {},
   "outputs": [
    {
     "data": {
      "text/plain": [
       "Dates                       0\n",
       "URL                         0\n",
       "News                        0\n",
       "Price Direction Up          0\n",
       "Price Direction Constant    0\n",
       "Price Direction Down        0\n",
       "Asset Comparision           0\n",
       "Past Information            0\n",
       "Future Information          0\n",
       "Price Sentiment             0\n",
       "dtype: int64"
      ]
     },
     "execution_count": 7,
     "metadata": {},
     "output_type": "execute_result"
    }
   ],
   "source": [
    "df.isnull().sum()"
   ]
  },
  {
   "cell_type": "code",
   "execution_count": 8,
   "id": "ce42f287",
   "metadata": {},
   "outputs": [
    {
     "data": {
      "text/plain": [
       "positive    4412\n",
       "negative    3814\n",
       "none        1968\n",
       "neutral      376\n",
       "Name: Price Sentiment, dtype: int64"
      ]
     },
     "execution_count": 8,
     "metadata": {},
     "output_type": "execute_result"
    }
   ],
   "source": [
    "df['Price Sentiment'].value_counts()"
   ]
  },
  {
   "cell_type": "code",
   "execution_count": 9,
   "id": "95dca3e3",
   "metadata": {},
   "outputs": [
    {
     "data": {
      "text/plain": [
       "array(['negative', 'positive', 'none', 'neutral'], dtype=object)"
      ]
     },
     "execution_count": 9,
     "metadata": {},
     "output_type": "execute_result"
    }
   ],
   "source": [
    "df['Price Sentiment'].unique()"
   ]
  },
  {
   "cell_type": "code",
   "execution_count": 10,
   "id": "546e3fe9",
   "metadata": {},
   "outputs": [],
   "source": [
    "df=df.rename(columns={\"Price Sentiment\":\"Price_Sentiment\"})"
   ]
  },
  {
   "cell_type": "code",
   "execution_count": 11,
   "id": "2ad28c4e",
   "metadata": {},
   "outputs": [
    {
     "data": {
      "text/html": [
       "<div>\n",
       "<style scoped>\n",
       "    .dataframe tbody tr th:only-of-type {\n",
       "        vertical-align: middle;\n",
       "    }\n",
       "\n",
       "    .dataframe tbody tr th {\n",
       "        vertical-align: top;\n",
       "    }\n",
       "\n",
       "    .dataframe thead th {\n",
       "        text-align: right;\n",
       "    }\n",
       "</style>\n",
       "<table border=\"1\" class=\"dataframe\">\n",
       "  <thead>\n",
       "    <tr style=\"text-align: right;\">\n",
       "      <th></th>\n",
       "      <th>Dates</th>\n",
       "      <th>URL</th>\n",
       "      <th>News</th>\n",
       "      <th>Price Direction Up</th>\n",
       "      <th>Price Direction Constant</th>\n",
       "      <th>Price Direction Down</th>\n",
       "      <th>Asset Comparision</th>\n",
       "      <th>Past Information</th>\n",
       "      <th>Future Information</th>\n",
       "      <th>Price_Sentiment</th>\n",
       "    </tr>\n",
       "  </thead>\n",
       "  <tbody>\n",
       "    <tr>\n",
       "      <th>0</th>\n",
       "      <td>28-01-2016</td>\n",
       "      <td>http://www.marketwatch.com/story/april-gold-do...</td>\n",
       "      <td>april gold down 20 cents to settle at $1,116.1...</td>\n",
       "      <td>0</td>\n",
       "      <td>0</td>\n",
       "      <td>1</td>\n",
       "      <td>0</td>\n",
       "      <td>1</td>\n",
       "      <td>0</td>\n",
       "      <td>negative</td>\n",
       "    </tr>\n",
       "    <tr>\n",
       "      <th>1</th>\n",
       "      <td>13-09-2017</td>\n",
       "      <td>http://www.marketwatch.com/story/gold-prices-s...</td>\n",
       "      <td>gold suffers third straight daily decline</td>\n",
       "      <td>0</td>\n",
       "      <td>0</td>\n",
       "      <td>1</td>\n",
       "      <td>0</td>\n",
       "      <td>1</td>\n",
       "      <td>0</td>\n",
       "      <td>negative</td>\n",
       "    </tr>\n",
       "    <tr>\n",
       "      <th>2</th>\n",
       "      <td>26-07-2016</td>\n",
       "      <td>http://www.marketwatch.com/story/gold-futures-...</td>\n",
       "      <td>Gold futures edge up after two-session decline</td>\n",
       "      <td>1</td>\n",
       "      <td>0</td>\n",
       "      <td>0</td>\n",
       "      <td>0</td>\n",
       "      <td>1</td>\n",
       "      <td>0</td>\n",
       "      <td>positive</td>\n",
       "    </tr>\n",
       "    <tr>\n",
       "      <th>3</th>\n",
       "      <td>28-02-2018</td>\n",
       "      <td>https://www.metalsdaily.com/link/277199/dent-r...</td>\n",
       "      <td>dent research : is gold's day in the sun comin...</td>\n",
       "      <td>0</td>\n",
       "      <td>0</td>\n",
       "      <td>0</td>\n",
       "      <td>0</td>\n",
       "      <td>0</td>\n",
       "      <td>1</td>\n",
       "      <td>none</td>\n",
       "    </tr>\n",
       "    <tr>\n",
       "      <th>4</th>\n",
       "      <td>06-09-2017</td>\n",
       "      <td>http://www.marketwatch.com/story/gold-steadies...</td>\n",
       "      <td>Gold snaps three-day rally as Trump, lawmakers...</td>\n",
       "      <td>0</td>\n",
       "      <td>0</td>\n",
       "      <td>1</td>\n",
       "      <td>0</td>\n",
       "      <td>1</td>\n",
       "      <td>0</td>\n",
       "      <td>negative</td>\n",
       "    </tr>\n",
       "    <tr>\n",
       "      <th>...</th>\n",
       "      <td>...</td>\n",
       "      <td>...</td>\n",
       "      <td>...</td>\n",
       "      <td>...</td>\n",
       "      <td>...</td>\n",
       "      <td>...</td>\n",
       "      <td>...</td>\n",
       "      <td>...</td>\n",
       "      <td>...</td>\n",
       "      <td>...</td>\n",
       "    </tr>\n",
       "    <tr>\n",
       "      <th>10565</th>\n",
       "      <td>07-01-2013</td>\n",
       "      <td>https://www.moneycontrol.com/news/business/mar...</td>\n",
       "      <td>gold seen falling from 3-week high this week</td>\n",
       "      <td>0</td>\n",
       "      <td>0</td>\n",
       "      <td>1</td>\n",
       "      <td>0</td>\n",
       "      <td>1</td>\n",
       "      <td>0</td>\n",
       "      <td>negative</td>\n",
       "    </tr>\n",
       "    <tr>\n",
       "      <th>10566</th>\n",
       "      <td>27-09-2018</td>\n",
       "      <td>https://www.metalsdaily.com/link/284468/domini...</td>\n",
       "      <td>dominic frisby : now looks like a good time to...</td>\n",
       "      <td>1</td>\n",
       "      <td>0</td>\n",
       "      <td>0</td>\n",
       "      <td>0</td>\n",
       "      <td>0</td>\n",
       "      <td>1</td>\n",
       "      <td>positive</td>\n",
       "    </tr>\n",
       "    <tr>\n",
       "      <th>10567</th>\n",
       "      <td>03-03-2017</td>\n",
       "      <td>https://www.thehindubusinessline.com/markets/g...</td>\n",
       "      <td>Gold heading for worst week since November on ...</td>\n",
       "      <td>0</td>\n",
       "      <td>0</td>\n",
       "      <td>1</td>\n",
       "      <td>0</td>\n",
       "      <td>1</td>\n",
       "      <td>0</td>\n",
       "      <td>negative</td>\n",
       "    </tr>\n",
       "    <tr>\n",
       "      <th>10568</th>\n",
       "      <td>11-06-2008</td>\n",
       "      <td>http://www.marketwatch.com/story/august-gold-u...</td>\n",
       "      <td>august gold up $7.60 at $878.80 an ounce on nymex</td>\n",
       "      <td>1</td>\n",
       "      <td>0</td>\n",
       "      <td>0</td>\n",
       "      <td>0</td>\n",
       "      <td>1</td>\n",
       "      <td>0</td>\n",
       "      <td>positive</td>\n",
       "    </tr>\n",
       "    <tr>\n",
       "      <th>10569</th>\n",
       "      <td>01-10-2007</td>\n",
       "      <td>http://www.marketwatch.com/story/december-gold...</td>\n",
       "      <td>december gold down $1 at $749 an ounce on nymex</td>\n",
       "      <td>0</td>\n",
       "      <td>0</td>\n",
       "      <td>1</td>\n",
       "      <td>0</td>\n",
       "      <td>1</td>\n",
       "      <td>0</td>\n",
       "      <td>negative</td>\n",
       "    </tr>\n",
       "  </tbody>\n",
       "</table>\n",
       "<p>10570 rows × 10 columns</p>\n",
       "</div>"
      ],
      "text/plain": [
       "            Dates                                                URL  \\\n",
       "0      28-01-2016  http://www.marketwatch.com/story/april-gold-do...   \n",
       "1      13-09-2017  http://www.marketwatch.com/story/gold-prices-s...   \n",
       "2      26-07-2016  http://www.marketwatch.com/story/gold-futures-...   \n",
       "3      28-02-2018  https://www.metalsdaily.com/link/277199/dent-r...   \n",
       "4      06-09-2017  http://www.marketwatch.com/story/gold-steadies...   \n",
       "...           ...                                                ...   \n",
       "10565  07-01-2013  https://www.moneycontrol.com/news/business/mar...   \n",
       "10566  27-09-2018  https://www.metalsdaily.com/link/284468/domini...   \n",
       "10567  03-03-2017  https://www.thehindubusinessline.com/markets/g...   \n",
       "10568  11-06-2008  http://www.marketwatch.com/story/august-gold-u...   \n",
       "10569  01-10-2007  http://www.marketwatch.com/story/december-gold...   \n",
       "\n",
       "                                                    News  Price Direction Up  \\\n",
       "0      april gold down 20 cents to settle at $1,116.1...                   0   \n",
       "1              gold suffers third straight daily decline                   0   \n",
       "2         Gold futures edge up after two-session decline                   1   \n",
       "3      dent research : is gold's day in the sun comin...                   0   \n",
       "4      Gold snaps three-day rally as Trump, lawmakers...                   0   \n",
       "...                                                  ...                 ...   \n",
       "10565       gold seen falling from 3-week high this week                   0   \n",
       "10566  dominic frisby : now looks like a good time to...                   1   \n",
       "10567  Gold heading for worst week since November on ...                   0   \n",
       "10568  august gold up $7.60 at $878.80 an ounce on nymex                   1   \n",
       "10569    december gold down $1 at $749 an ounce on nymex                   0   \n",
       "\n",
       "       Price Direction Constant  Price Direction Down  Asset Comparision  \\\n",
       "0                             0                     1                  0   \n",
       "1                             0                     1                  0   \n",
       "2                             0                     0                  0   \n",
       "3                             0                     0                  0   \n",
       "4                             0                     1                  0   \n",
       "...                         ...                   ...                ...   \n",
       "10565                         0                     1                  0   \n",
       "10566                         0                     0                  0   \n",
       "10567                         0                     1                  0   \n",
       "10568                         0                     0                  0   \n",
       "10569                         0                     1                  0   \n",
       "\n",
       "       Past Information  Future Information Price_Sentiment  \n",
       "0                     1                   0        negative  \n",
       "1                     1                   0        negative  \n",
       "2                     1                   0        positive  \n",
       "3                     0                   1            none  \n",
       "4                     1                   0        negative  \n",
       "...                 ...                 ...             ...  \n",
       "10565                 1                   0        negative  \n",
       "10566                 0                   1        positive  \n",
       "10567                 1                   0        negative  \n",
       "10568                 1                   0        positive  \n",
       "10569                 1                   0        negative  \n",
       "\n",
       "[10570 rows x 10 columns]"
      ]
     },
     "execution_count": 11,
     "metadata": {},
     "output_type": "execute_result"
    }
   ],
   "source": [
    "df"
   ]
  },
  {
   "cell_type": "code",
   "execution_count": 12,
   "id": "6da8a7b2",
   "metadata": {},
   "outputs": [
    {
     "data": {
      "text/plain": [
       "positive    4412\n",
       "negative    3814\n",
       "none        1968\n",
       "neutral      376\n",
       "Name: Price_Sentiment, dtype: int64"
      ]
     },
     "execution_count": 12,
     "metadata": {},
     "output_type": "execute_result"
    }
   ],
   "source": [
    "df['Price_Sentiment'].value_counts()"
   ]
  },
  {
   "cell_type": "code",
   "execution_count": 13,
   "id": "f3afde9c",
   "metadata": {},
   "outputs": [],
   "source": [
    "#Add the new column which gives a unique number to each of these labels \n",
    "df['label_num'] = df['Price_Sentiment'].map({'negative': 1, 'positive': 2,'none':2,'neutral':3})"
   ]
  },
  {
   "cell_type": "code",
   "execution_count": 14,
   "id": "d35ab5ac",
   "metadata": {},
   "outputs": [
    {
     "data": {
      "text/html": [
       "<div>\n",
       "<style scoped>\n",
       "    .dataframe tbody tr th:only-of-type {\n",
       "        vertical-align: middle;\n",
       "    }\n",
       "\n",
       "    .dataframe tbody tr th {\n",
       "        vertical-align: top;\n",
       "    }\n",
       "\n",
       "    .dataframe thead th {\n",
       "        text-align: right;\n",
       "    }\n",
       "</style>\n",
       "<table border=\"1\" class=\"dataframe\">\n",
       "  <thead>\n",
       "    <tr style=\"text-align: right;\">\n",
       "      <th></th>\n",
       "      <th>Dates</th>\n",
       "      <th>URL</th>\n",
       "      <th>News</th>\n",
       "      <th>Price Direction Up</th>\n",
       "      <th>Price Direction Constant</th>\n",
       "      <th>Price Direction Down</th>\n",
       "      <th>Asset Comparision</th>\n",
       "      <th>Past Information</th>\n",
       "      <th>Future Information</th>\n",
       "      <th>Price_Sentiment</th>\n",
       "      <th>label_num</th>\n",
       "    </tr>\n",
       "  </thead>\n",
       "  <tbody>\n",
       "    <tr>\n",
       "      <th>0</th>\n",
       "      <td>28-01-2016</td>\n",
       "      <td>http://www.marketwatch.com/story/april-gold-do...</td>\n",
       "      <td>april gold down 20 cents to settle at $1,116.1...</td>\n",
       "      <td>0</td>\n",
       "      <td>0</td>\n",
       "      <td>1</td>\n",
       "      <td>0</td>\n",
       "      <td>1</td>\n",
       "      <td>0</td>\n",
       "      <td>negative</td>\n",
       "      <td>1</td>\n",
       "    </tr>\n",
       "    <tr>\n",
       "      <th>1</th>\n",
       "      <td>13-09-2017</td>\n",
       "      <td>http://www.marketwatch.com/story/gold-prices-s...</td>\n",
       "      <td>gold suffers third straight daily decline</td>\n",
       "      <td>0</td>\n",
       "      <td>0</td>\n",
       "      <td>1</td>\n",
       "      <td>0</td>\n",
       "      <td>1</td>\n",
       "      <td>0</td>\n",
       "      <td>negative</td>\n",
       "      <td>1</td>\n",
       "    </tr>\n",
       "    <tr>\n",
       "      <th>2</th>\n",
       "      <td>26-07-2016</td>\n",
       "      <td>http://www.marketwatch.com/story/gold-futures-...</td>\n",
       "      <td>Gold futures edge up after two-session decline</td>\n",
       "      <td>1</td>\n",
       "      <td>0</td>\n",
       "      <td>0</td>\n",
       "      <td>0</td>\n",
       "      <td>1</td>\n",
       "      <td>0</td>\n",
       "      <td>positive</td>\n",
       "      <td>2</td>\n",
       "    </tr>\n",
       "    <tr>\n",
       "      <th>3</th>\n",
       "      <td>28-02-2018</td>\n",
       "      <td>https://www.metalsdaily.com/link/277199/dent-r...</td>\n",
       "      <td>dent research : is gold's day in the sun comin...</td>\n",
       "      <td>0</td>\n",
       "      <td>0</td>\n",
       "      <td>0</td>\n",
       "      <td>0</td>\n",
       "      <td>0</td>\n",
       "      <td>1</td>\n",
       "      <td>none</td>\n",
       "      <td>2</td>\n",
       "    </tr>\n",
       "    <tr>\n",
       "      <th>4</th>\n",
       "      <td>06-09-2017</td>\n",
       "      <td>http://www.marketwatch.com/story/gold-steadies...</td>\n",
       "      <td>Gold snaps three-day rally as Trump, lawmakers...</td>\n",
       "      <td>0</td>\n",
       "      <td>0</td>\n",
       "      <td>1</td>\n",
       "      <td>0</td>\n",
       "      <td>1</td>\n",
       "      <td>0</td>\n",
       "      <td>negative</td>\n",
       "      <td>1</td>\n",
       "    </tr>\n",
       "  </tbody>\n",
       "</table>\n",
       "</div>"
      ],
      "text/plain": [
       "        Dates                                                URL  \\\n",
       "0  28-01-2016  http://www.marketwatch.com/story/april-gold-do...   \n",
       "1  13-09-2017  http://www.marketwatch.com/story/gold-prices-s...   \n",
       "2  26-07-2016  http://www.marketwatch.com/story/gold-futures-...   \n",
       "3  28-02-2018  https://www.metalsdaily.com/link/277199/dent-r...   \n",
       "4  06-09-2017  http://www.marketwatch.com/story/gold-steadies...   \n",
       "\n",
       "                                                News  Price Direction Up  \\\n",
       "0  april gold down 20 cents to settle at $1,116.1...                   0   \n",
       "1          gold suffers third straight daily decline                   0   \n",
       "2     Gold futures edge up after two-session decline                   1   \n",
       "3  dent research : is gold's day in the sun comin...                   0   \n",
       "4  Gold snaps three-day rally as Trump, lawmakers...                   0   \n",
       "\n",
       "   Price Direction Constant  Price Direction Down  Asset Comparision  \\\n",
       "0                         0                     1                  0   \n",
       "1                         0                     1                  0   \n",
       "2                         0                     0                  0   \n",
       "3                         0                     0                  0   \n",
       "4                         0                     1                  0   \n",
       "\n",
       "   Past Information  Future Information Price_Sentiment  label_num  \n",
       "0                 1                   0        negative          1  \n",
       "1                 1                   0        negative          1  \n",
       "2                 1                   0        positive          2  \n",
       "3                 0                   1            none          2  \n",
       "4                 1                   0        negative          1  "
      ]
     },
     "execution_count": 14,
     "metadata": {},
     "output_type": "execute_result"
    }
   ],
   "source": [
    "df.head(5)"
   ]
  },
  {
   "cell_type": "code",
   "execution_count": 15,
   "id": "0f9eacb9",
   "metadata": {},
   "outputs": [
    {
     "data": {
      "text/plain": [
       "Text(0.5, 1.0, 'Price_Sentiment')"
      ]
     },
     "execution_count": 15,
     "metadata": {},
     "output_type": "execute_result"
    },
    {
     "data": {
      "image/png": "[encoded data removed]",
      "text/plain": [
       "<Figure size 2000x2000 with 1 Axes>"
      ]
     },
     "metadata": {},
     "output_type": "display_data"
    }
   ],
   "source": [
    "#handling imbalance data\n",
    "plt.figure(figsize=(20,20))\n",
    "\n",
    "plt.subplot(3,4,1)\n",
    "sns.countplot(x=df['Price_Sentiment'])\n",
    "plt.title('Price_Sentiment') "
   ]
  },
  {
   "cell_type": "code",
   "execution_count": 16,
   "id": "56b11f3f",
   "metadata": {},
   "outputs": [
    {
     "data": {
      "text/html": [
       "<div>\n",
       "<style scoped>\n",
       "    .dataframe tbody tr th:only-of-type {\n",
       "        vertical-align: middle;\n",
       "    }\n",
       "\n",
       "    .dataframe tbody tr th {\n",
       "        vertical-align: top;\n",
       "    }\n",
       "\n",
       "    .dataframe thead th {\n",
       "        text-align: right;\n",
       "    }\n",
       "</style>\n",
       "<table border=\"1\" class=\"dataframe\">\n",
       "  <thead>\n",
       "    <tr style=\"text-align: right;\">\n",
       "      <th></th>\n",
       "      <th>Dates</th>\n",
       "      <th>URL</th>\n",
       "      <th>News</th>\n",
       "      <th>Price Direction Up</th>\n",
       "      <th>Price Direction Constant</th>\n",
       "      <th>Price Direction Down</th>\n",
       "      <th>Asset Comparision</th>\n",
       "      <th>Past Information</th>\n",
       "      <th>Future Information</th>\n",
       "      <th>Price_Sentiment</th>\n",
       "      <th>label_num</th>\n",
       "    </tr>\n",
       "  </thead>\n",
       "  <tbody>\n",
       "    <tr>\n",
       "      <th>count</th>\n",
       "      <td>10570</td>\n",
       "      <td>10570</td>\n",
       "      <td>10570</td>\n",
       "      <td>10570.000000</td>\n",
       "      <td>10570.000000</td>\n",
       "      <td>10570.000000</td>\n",
       "      <td>10570.000000</td>\n",
       "      <td>10570.000000</td>\n",
       "      <td>10570.00000</td>\n",
       "      <td>10570</td>\n",
       "      <td>10570.000000</td>\n",
       "    </tr>\n",
       "    <tr>\n",
       "      <th>unique</th>\n",
       "      <td>3761</td>\n",
       "      <td>10570</td>\n",
       "      <td>10570</td>\n",
       "      <td>NaN</td>\n",
       "      <td>NaN</td>\n",
       "      <td>NaN</td>\n",
       "      <td>NaN</td>\n",
       "      <td>NaN</td>\n",
       "      <td>NaN</td>\n",
       "      <td>4</td>\n",
       "      <td>NaN</td>\n",
       "    </tr>\n",
       "    <tr>\n",
       "      <th>top</th>\n",
       "      <td>30-08-2017</td>\n",
       "      <td>http://www.marketwatch.com/story/april-gold-do...</td>\n",
       "      <td>april gold down 20 cents to settle at $1,116.1...</td>\n",
       "      <td>NaN</td>\n",
       "      <td>NaN</td>\n",
       "      <td>NaN</td>\n",
       "      <td>NaN</td>\n",
       "      <td>NaN</td>\n",
       "      <td>NaN</td>\n",
       "      <td>positive</td>\n",
       "      <td>NaN</td>\n",
       "    </tr>\n",
       "    <tr>\n",
       "      <th>freq</th>\n",
       "      <td>18</td>\n",
       "      <td>1</td>\n",
       "      <td>1</td>\n",
       "      <td>NaN</td>\n",
       "      <td>NaN</td>\n",
       "      <td>NaN</td>\n",
       "      <td>NaN</td>\n",
       "      <td>NaN</td>\n",
       "      <td>NaN</td>\n",
       "      <td>4412</td>\n",
       "      <td>NaN</td>\n",
       "    </tr>\n",
       "    <tr>\n",
       "      <th>mean</th>\n",
       "      <td>NaN</td>\n",
       "      <td>NaN</td>\n",
       "      <td>NaN</td>\n",
       "      <td>0.417408</td>\n",
       "      <td>0.042006</td>\n",
       "      <td>0.370104</td>\n",
       "      <td>0.189309</td>\n",
       "      <td>0.969915</td>\n",
       "      <td>0.03018</td>\n",
       "      <td>NaN</td>\n",
       "      <td>1.674740</td>\n",
       "    </tr>\n",
       "    <tr>\n",
       "      <th>std</th>\n",
       "      <td>NaN</td>\n",
       "      <td>NaN</td>\n",
       "      <td>NaN</td>\n",
       "      <td>0.493155</td>\n",
       "      <td>0.200612</td>\n",
       "      <td>0.482855</td>\n",
       "      <td>0.391773</td>\n",
       "      <td>0.170830</td>\n",
       "      <td>0.17109</td>\n",
       "      <td>NaN</td>\n",
       "      <td>0.539109</td>\n",
       "    </tr>\n",
       "    <tr>\n",
       "      <th>min</th>\n",
       "      <td>NaN</td>\n",
       "      <td>NaN</td>\n",
       "      <td>NaN</td>\n",
       "      <td>0.000000</td>\n",
       "      <td>0.000000</td>\n",
       "      <td>0.000000</td>\n",
       "      <td>0.000000</td>\n",
       "      <td>0.000000</td>\n",
       "      <td>0.00000</td>\n",
       "      <td>NaN</td>\n",
       "      <td>1.000000</td>\n",
       "    </tr>\n",
       "    <tr>\n",
       "      <th>25%</th>\n",
       "      <td>NaN</td>\n",
       "      <td>NaN</td>\n",
       "      <td>NaN</td>\n",
       "      <td>0.000000</td>\n",
       "      <td>0.000000</td>\n",
       "      <td>0.000000</td>\n",
       "      <td>0.000000</td>\n",
       "      <td>1.000000</td>\n",
       "      <td>0.00000</td>\n",
       "      <td>NaN</td>\n",
       "      <td>1.000000</td>\n",
       "    </tr>\n",
       "    <tr>\n",
       "      <th>50%</th>\n",
       "      <td>NaN</td>\n",
       "      <td>NaN</td>\n",
       "      <td>NaN</td>\n",
       "      <td>0.000000</td>\n",
       "      <td>0.000000</td>\n",
       "      <td>0.000000</td>\n",
       "      <td>0.000000</td>\n",
       "      <td>1.000000</td>\n",
       "      <td>0.00000</td>\n",
       "      <td>NaN</td>\n",
       "      <td>2.000000</td>\n",
       "    </tr>\n",
       "    <tr>\n",
       "      <th>75%</th>\n",
       "      <td>NaN</td>\n",
       "      <td>NaN</td>\n",
       "      <td>NaN</td>\n",
       "      <td>1.000000</td>\n",
       "      <td>0.000000</td>\n",
       "      <td>1.000000</td>\n",
       "      <td>0.000000</td>\n",
       "      <td>1.000000</td>\n",
       "      <td>0.00000</td>\n",
       "      <td>NaN</td>\n",
       "      <td>2.000000</td>\n",
       "    </tr>\n",
       "    <tr>\n",
       "      <th>max</th>\n",
       "      <td>NaN</td>\n",
       "      <td>NaN</td>\n",
       "      <td>NaN</td>\n",
       "      <td>1.000000</td>\n",
       "      <td>1.000000</td>\n",
       "      <td>1.000000</td>\n",
       "      <td>1.000000</td>\n",
       "      <td>1.000000</td>\n",
       "      <td>1.00000</td>\n",
       "      <td>NaN</td>\n",
       "      <td>3.000000</td>\n",
       "    </tr>\n",
       "  </tbody>\n",
       "</table>\n",
       "</div>"
      ],
      "text/plain": [
       "             Dates                                                URL  \\\n",
       "count        10570                                              10570   \n",
       "unique        3761                                              10570   \n",
       "top     30-08-2017  http://www.marketwatch.com/story/april-gold-do...   \n",
       "freq            18                                                  1   \n",
       "mean           NaN                                                NaN   \n",
       "std            NaN                                                NaN   \n",
       "min            NaN                                                NaN   \n",
       "25%            NaN                                                NaN   \n",
       "50%            NaN                                                NaN   \n",
       "75%            NaN                                                NaN   \n",
       "max            NaN                                                NaN   \n",
       "\n",
       "                                                     News  Price Direction Up  \\\n",
       "count                                               10570        10570.000000   \n",
       "unique                                              10570                 NaN   \n",
       "top     april gold down 20 cents to settle at $1,116.1...                 NaN   \n",
       "freq                                                    1                 NaN   \n",
       "mean                                                  NaN            0.417408   \n",
       "std                                                   NaN            0.493155   \n",
       "min                                                   NaN            0.000000   \n",
       "25%                                                   NaN            0.000000   \n",
       "50%                                                   NaN            0.000000   \n",
       "75%                                                   NaN            1.000000   \n",
       "max                                                   NaN            1.000000   \n",
       "\n",
       "        Price Direction Constant  Price Direction Down  Asset Comparision  \\\n",
       "count               10570.000000          10570.000000       10570.000000   \n",
       "unique                       NaN                   NaN                NaN   \n",
       "top                          NaN                   NaN                NaN   \n",
       "freq                         NaN                   NaN                NaN   \n",
       "mean                    0.042006              0.370104           0.189309   \n",
       "std                     0.200612              0.482855           0.391773   \n",
       "min                     0.000000              0.000000           0.000000   \n",
       "25%                     0.000000              0.000000           0.000000   \n",
       "50%                     0.000000              0.000000           0.000000   \n",
       "75%                     0.000000              1.000000           0.000000   \n",
       "max                     1.000000              1.000000           1.000000   \n",
       "\n",
       "        Past Information  Future Information Price_Sentiment     label_num  \n",
       "count       10570.000000         10570.00000           10570  10570.000000  \n",
       "unique               NaN                 NaN               4           NaN  \n",
       "top                  NaN                 NaN        positive           NaN  \n",
       "freq                 NaN                 NaN            4412           NaN  \n",
       "mean            0.969915             0.03018             NaN      1.674740  \n",
       "std             0.170830             0.17109             NaN      0.539109  \n",
       "min             0.000000             0.00000             NaN      1.000000  \n",
       "25%             1.000000             0.00000             NaN      1.000000  \n",
       "50%             1.000000             0.00000             NaN      2.000000  \n",
       "75%             1.000000             0.00000             NaN      2.000000  \n",
       "max             1.000000             1.00000             NaN      3.000000  "
      ]
     },
     "execution_count": 16,
     "metadata": {},
     "output_type": "execute_result"
    }
   ],
   "source": [
    "#Descriptive statistical (statistic data like mean,median,mode etc)\n",
    "#to describe the dataset\n",
    "df.describe(include='all')\n"
   ]
  },
  {
   "cell_type": "code",
   "execution_count": 17,
   "id": "ffa144ce",
   "metadata": {},
   "outputs": [
    {
     "data": {
      "text/plain": [
       "positive    4412\n",
       "negative    3814\n",
       "none        1968\n",
       "neutral      376\n",
       "Name: Price_Sentiment, dtype: int64"
      ]
     },
     "execution_count": 17,
     "metadata": {},
     "output_type": "execute_result"
    },
    {
     "data": {
      "image/png": "[encoded data removed]",
      "text/plain": [
       "<Figure size 1000x500 with 1 Axes>"
      ]
     },
     "metadata": {},
     "output_type": "display_data"
    }
   ],
   "source": [
    "#visual analysis respresentation such as charts,plots ,graphs etc\n",
    "#univariate analysis\n",
    "plt.figure(figsize=(10,5))\n",
    "sns.countplot(x=df['Price_Sentiment'])\n",
    "df['Price_Sentiment'].value_counts()"
   ]
  },
  {
   "cell_type": "code",
   "execution_count": 18,
   "id": "7f4b8f81",
   "metadata": {},
   "outputs": [
    {
     "data": {
      "text/plain": [
       "<Axes: xlabel='Price_Sentiment', ylabel='count'>"
      ]
     },
     "execution_count": 18,
     "metadata": {},
     "output_type": "execute_result"
    },
    {
     "data": {
      "image/png": "[encoded data removed]",
      "text/plain": [
       "<Figure size 1000x500 with 2 Axes>"
      ]
     },
     "metadata": {},
     "output_type": "display_data"
    }
   ],
   "source": [
    "#Bivariate analysis\n",
    "plt.figure(figsize=(10,5))\n",
    "plt.subplot(131)\n",
    "sns.countplot(x=df['Price_Sentiment'],hue=df['Price Direction Up'])\n",
    "plt.subplot(132)\n",
    "sns.countplot(x=df['Price_Sentiment'],hue=df['Past Information'])"
   ]
  },
  {
   "cell_type": "code",
   "execution_count": 19,
   "id": "b2090303",
   "metadata": {},
   "outputs": [
    {
     "data": {
      "text/plain": [
       "<seaborn.axisgrid.PairGrid at 0x1f224da0f70>"
      ]
     },
     "execution_count": 19,
     "metadata": {},
     "output_type": "execute_result"
    },
    {
     "data": {
      "image/png": "[encoded data removed]",
      "text/plain": [
       "<Figure size 1873.74x1750 with 56 Axes>"
      ]
     },
     "metadata": {},
     "output_type": "display_data"
    }
   ],
   "source": [
    "#multivariate analysis\n",
    "sns.pairplot(df,hue='Price_Sentiment')"
   ]
  },
  {
   "cell_type": "code",
   "execution_count": 20,
   "id": "82e10e49",
   "metadata": {},
   "outputs": [],
   "source": [
    "#regular expression which is used to remove the white space,punctuation & other non-alphanumeric char\n",
    "def text_clean_1(text):\n",
    "    text=text.lower() #convert to lower case\n",
    "    text=re.sub('\\[.*?\\]','',text)  #remove .,?,\"\",[]\n",
    "    text=re.sub('[%s]'% re.escape(string.punctuation),'',text)      #will remove \"\",.\n",
    "    text=re.sub('\\w*\\d\\w*','',text)\n",
    "    text=re.sub('[''\"\"...]','',text)   #remove ',',\",\",....\n",
    "    text=re.sub('\\n','',text)\n",
    "    return text\n",
    "cleaned_News=lambda x:text_clean_1(x)"
   ]
  },
  {
   "cell_type": "code",
   "execution_count": 21,
   "id": "e25a398b",
   "metadata": {},
   "outputs": [
    {
     "data": {
      "text/html": [
       "<div>\n",
       "<style scoped>\n",
       "    .dataframe tbody tr th:only-of-type {\n",
       "        vertical-align: middle;\n",
       "    }\n",
       "\n",
       "    .dataframe tbody tr th {\n",
       "        vertical-align: top;\n",
       "    }\n",
       "\n",
       "    .dataframe thead th {\n",
       "        text-align: right;\n",
       "    }\n",
       "</style>\n",
       "<table border=\"1\" class=\"dataframe\">\n",
       "  <thead>\n",
       "    <tr style=\"text-align: right;\">\n",
       "      <th></th>\n",
       "      <th>Dates</th>\n",
       "      <th>URL</th>\n",
       "      <th>News</th>\n",
       "      <th>Price Direction Up</th>\n",
       "      <th>Price Direction Constant</th>\n",
       "      <th>Price Direction Down</th>\n",
       "      <th>Asset Comparision</th>\n",
       "      <th>Past Information</th>\n",
       "      <th>Future Information</th>\n",
       "      <th>Price_Sentiment</th>\n",
       "      <th>label_num</th>\n",
       "      <th>cleaned_News</th>\n",
       "    </tr>\n",
       "  </thead>\n",
       "  <tbody>\n",
       "    <tr>\n",
       "      <th>0</th>\n",
       "      <td>28-01-2016</td>\n",
       "      <td>http://www.marketwatch.com/story/april-gold-do...</td>\n",
       "      <td>april gold down 20 cents to settle at $1,116.1...</td>\n",
       "      <td>0</td>\n",
       "      <td>0</td>\n",
       "      <td>1</td>\n",
       "      <td>0</td>\n",
       "      <td>1</td>\n",
       "      <td>0</td>\n",
       "      <td>negative</td>\n",
       "      <td>1</td>\n",
       "      <td>april gold down  cents to settle at</td>\n",
       "    </tr>\n",
       "    <tr>\n",
       "      <th>1</th>\n",
       "      <td>13-09-2017</td>\n",
       "      <td>http://www.marketwatch.com/story/gold-prices-s...</td>\n",
       "      <td>gold suffers third straight daily decline</td>\n",
       "      <td>0</td>\n",
       "      <td>0</td>\n",
       "      <td>1</td>\n",
       "      <td>0</td>\n",
       "      <td>1</td>\n",
       "      <td>0</td>\n",
       "      <td>negative</td>\n",
       "      <td>1</td>\n",
       "      <td>gold suffers third straight daily decline</td>\n",
       "    </tr>\n",
       "    <tr>\n",
       "      <th>2</th>\n",
       "      <td>26-07-2016</td>\n",
       "      <td>http://www.marketwatch.com/story/gold-futures-...</td>\n",
       "      <td>Gold futures edge up after two-session decline</td>\n",
       "      <td>1</td>\n",
       "      <td>0</td>\n",
       "      <td>0</td>\n",
       "      <td>0</td>\n",
       "      <td>1</td>\n",
       "      <td>0</td>\n",
       "      <td>positive</td>\n",
       "      <td>2</td>\n",
       "      <td>gold futures edge up after twosession decline</td>\n",
       "    </tr>\n",
       "    <tr>\n",
       "      <th>3</th>\n",
       "      <td>28-02-2018</td>\n",
       "      <td>https://www.metalsdaily.com/link/277199/dent-r...</td>\n",
       "      <td>dent research : is gold's day in the sun comin...</td>\n",
       "      <td>0</td>\n",
       "      <td>0</td>\n",
       "      <td>0</td>\n",
       "      <td>0</td>\n",
       "      <td>0</td>\n",
       "      <td>1</td>\n",
       "      <td>none</td>\n",
       "      <td>2</td>\n",
       "      <td>dent research  is golds day in the sun coming ...</td>\n",
       "    </tr>\n",
       "    <tr>\n",
       "      <th>4</th>\n",
       "      <td>06-09-2017</td>\n",
       "      <td>http://www.marketwatch.com/story/gold-steadies...</td>\n",
       "      <td>Gold snaps three-day rally as Trump, lawmakers...</td>\n",
       "      <td>0</td>\n",
       "      <td>0</td>\n",
       "      <td>1</td>\n",
       "      <td>0</td>\n",
       "      <td>1</td>\n",
       "      <td>0</td>\n",
       "      <td>negative</td>\n",
       "      <td>1</td>\n",
       "      <td>gold snaps threeday rally as trump lawmakers r...</td>\n",
       "    </tr>\n",
       "  </tbody>\n",
       "</table>\n",
       "</div>"
      ],
      "text/plain": [
       "        Dates                                                URL  \\\n",
       "0  28-01-2016  http://www.marketwatch.com/story/april-gold-do...   \n",
       "1  13-09-2017  http://www.marketwatch.com/story/gold-prices-s...   \n",
       "2  26-07-2016  http://www.marketwatch.com/story/gold-futures-...   \n",
       "3  28-02-2018  https://www.metalsdaily.com/link/277199/dent-r...   \n",
       "4  06-09-2017  http://www.marketwatch.com/story/gold-steadies...   \n",
       "\n",
       "                                                News  Price Direction Up  \\\n",
       "0  april gold down 20 cents to settle at $1,116.1...                   0   \n",
       "1          gold suffers third straight daily decline                   0   \n",
       "2     Gold futures edge up after two-session decline                   1   \n",
       "3  dent research : is gold's day in the sun comin...                   0   \n",
       "4  Gold snaps three-day rally as Trump, lawmakers...                   0   \n",
       "\n",
       "   Price Direction Constant  Price Direction Down  Asset Comparision  \\\n",
       "0                         0                     1                  0   \n",
       "1                         0                     1                  0   \n",
       "2                         0                     0                  0   \n",
       "3                         0                     0                  0   \n",
       "4                         0                     1                  0   \n",
       "\n",
       "   Past Information  Future Information Price_Sentiment  label_num  \\\n",
       "0                 1                   0        negative          1   \n",
       "1                 1                   0        negative          1   \n",
       "2                 1                   0        positive          2   \n",
       "3                 0                   1            none          2   \n",
       "4                 1                   0        negative          1   \n",
       "\n",
       "                                        cleaned_News  \n",
       "0               april gold down  cents to settle at   \n",
       "1          gold suffers third straight daily decline  \n",
       "2      gold futures edge up after twosession decline  \n",
       "3  dent research  is golds day in the sun coming ...  \n",
       "4  gold snaps threeday rally as trump lawmakers r...  "
      ]
     },
     "execution_count": 21,
     "metadata": {},
     "output_type": "execute_result"
    }
   ],
   "source": [
    "#after text pre processing\n",
    "# the cleaned data stoed in new colum\n",
    "df['cleaned_News']=pd.DataFrame(df.News.apply(cleaned_News))\n",
    "df.head(5)"
   ]
  },
  {
   "cell_type": "code",
   "execution_count": 22,
   "id": "03064c8b",
   "metadata": {},
   "outputs": [],
   "source": [
    "x=df['News']\n",
    "y=df['Price_Sentiment']"
   ]
  },
  {
   "cell_type": "code",
   "execution_count": 23,
   "id": "871eec1d",
   "metadata": {},
   "outputs": [
    {
     "name": "stdout",
     "output_type": "stream",
     "text": [
      "x_train 8456\n",
      "x_test 2114\n",
      "y_train 8456\n",
      "y_test 2114\n"
     ]
    }
   ],
   "source": [
    "from sklearn.model_selection import train_test_split\n",
    "from sklearn import metrics\n",
    "x_train,x_test,y_train,y_test=train_test_split(x,y,test_size=0.2,random_state=0)\n",
    "\n",
    "print(\"x_train\",len(x_train))\n",
    "print(\"x_test\",len(x_test))\n",
    "print(\"y_train\",len(y_train))\n",
    "print(\"y_test\",len(y_test))"
   ]
  },
  {
   "cell_type": "code",
   "execution_count": 24,
   "id": "18528d7a",
   "metadata": {},
   "outputs": [],
   "source": [
    "#Logistics Regression\n",
    "tvec=TfidfVectorizer()\n",
    "clf2=LogisticRegression()"
   ]
  },
  {
   "cell_type": "code",
   "execution_count": 25,
   "id": "77408e0a",
   "metadata": {},
   "outputs": [
    {
     "name": "stderr",
     "output_type": "stream",
     "text": [
      "C:\\Users\\Deepika\\AppData\\Roaming\\Python\\Python310\\site-packages\\sklearn\\linear_model\\_logistic.py:458: ConvergenceWarning: lbfgs failed to converge (status=1):\n",
      "STOP: TOTAL NO. of ITERATIONS REACHED LIMIT.\n",
      "\n",
      "Increase the number of iterations (max_iter) or scale the data as shown in:\n",
      "    https://scikit-learn.org/stable/modules/preprocessing.html\n",
      "Please also refer to the documentation for alternative solver options:\n",
      "    https://scikit-learn.org/stable/modules/linear_model.html#logistic-regression\n",
      "  n_iter_i = _check_optimize_result(\n"
     ]
    },
    {
     "data": {
      "text/plain": [
       "array([[700,  14,  21,  27],\n",
       "       [  1,  50,   1,   3],\n",
       "       [ 33,   9, 331,  44],\n",
       "       [ 35,  16,  38, 791]], dtype=int64)"
      ]
     },
     "execution_count": 25,
     "metadata": {},
     "output_type": "execute_result"
    }
   ],
   "source": [
    "from sklearn.pipeline import Pipeline\n",
    "model = Pipeline([('vectorizer',tvec),('classifier',clf2)])\n",
    "model.fit(x_train, y_train)\n",
    "predictions = model.predict(x_test)\n",
    "pred_train=model.predict(x_train)\n",
    "confusion_matrix(predictions, y_test)"
   ]
  },
  {
   "cell_type": "code",
   "execution_count": 26,
   "id": "23ede7d5",
   "metadata": {},
   "outputs": [],
   "source": [
    "svm=SVC(kernel='linear')\n",
    "tvec=TfidfVectorizer()"
   ]
  },
  {
   "cell_type": "code",
   "execution_count": 27,
   "id": "ad15a2a2",
   "metadata": {},
   "outputs": [
    {
     "data": {
      "text/plain": [
       "array([[700,  14,  21,  27],\n",
       "       [  1,  50,   1,   3],\n",
       "       [ 33,   9, 331,  44],\n",
       "       [ 35,  16,  38, 791]], dtype=int64)"
      ]
     },
     "execution_count": 27,
     "metadata": {},
     "output_type": "execute_result"
    }
   ],
   "source": [
    "#from sklearn.pipeline import Pipeline\n",
    "model2=Pipeline([('Vectorizer',tvec),('classifier',svm)])\n",
    "model2.fit(x_train,y_train)\n",
    "predictions2=model.predict(x_test)\n",
    "pred2_train=model.predict(x_train)\n",
    "confusion_matrix(predictions2,y_test)"
   ]
  },
  {
   "cell_type": "code",
   "execution_count": 28,
   "id": "e5c91bb9",
   "metadata": {},
   "outputs": [
    {
     "name": "stdout",
     "output_type": "stream",
     "text": [
      "['neutral']\n"
     ]
    }
   ],
   "source": [
    "example=[\"gold to trade in 28670-29160 range: achiievers equities\"]\n",
    "result=model.predict(example)\n",
    "print(result)"
   ]
  },
  {
   "cell_type": "code",
   "execution_count": 29,
   "id": "d7288947",
   "metadata": {},
   "outputs": [
    {
     "name": "stdout",
     "output_type": "stream",
     "text": [
      "['neutral']\n"
     ]
    }
   ],
   "source": [
    "example=[\"gold to trade in 28670-29160 range: achiievers equities\"]\n",
    "result=model2.predict(example)\n",
    "print(result)"
   ]
  },
  {
   "cell_type": "code",
   "execution_count": 30,
   "id": "2d9f623f",
   "metadata": {},
   "outputs": [
    {
     "name": "stdout",
     "output_type": "stream",
     "text": [
      "['none']\n"
     ]
    }
   ],
   "source": [
    "example=[\"can investment in gold sensex & ppfs give the same returns?\"]\n",
    "result=model.predict(example)\n",
    "print(result)"
   ]
  },
  {
   "cell_type": "code",
   "execution_count": 31,
   "id": "9602f261",
   "metadata": {},
   "outputs": [
    {
     "name": "stdout",
     "output_type": "stream",
     "text": [
      "['none']\n"
     ]
    }
   ],
   "source": [
    "example=[\"can investment in gold sensex & ppfs give the same returns?\"]\n",
    "result=model2.predict(example)\n",
    "print(result)"
   ]
  },
  {
   "cell_type": "code",
   "execution_count": 32,
   "id": "97a9d705",
   "metadata": {},
   "outputs": [
    {
     "name": "stdout",
     "output_type": "stream",
     "text": [
      "              precision    recall  f1-score   support\n",
      "\n",
      "    negative       0.92      0.91      0.91       769\n",
      "     neutral       0.91      0.56      0.69        89\n",
      "        none       0.79      0.85      0.82       391\n",
      "    positive       0.90      0.91      0.91       865\n",
      "\n",
      "    accuracy                           0.89      2114\n",
      "   macro avg       0.88      0.81      0.83      2114\n",
      "weighted avg       0.89      0.89      0.88      2114\n",
      "\n"
     ]
    }
   ],
   "source": [
    "#for Logistic Regression\n",
    "from sklearn.metrics import classification_report\n",
    "#assume y_train and pred_train are your true and predicted label\n",
    "print(classification_report(y_test,predictions))"
   ]
  },
  {
   "cell_type": "code",
   "execution_count": 33,
   "id": "5d3e8e33",
   "metadata": {},
   "outputs": [
    {
     "name": "stdout",
     "output_type": "stream",
     "text": [
      "              precision    recall  f1-score   support\n",
      "\n",
      "    negative       0.92      0.91      0.91       769\n",
      "     neutral       0.91      0.56      0.69        89\n",
      "        none       0.79      0.85      0.82       391\n",
      "    positive       0.90      0.91      0.91       865\n",
      "\n",
      "    accuracy                           0.89      2114\n",
      "   macro avg       0.88      0.81      0.83      2114\n",
      "weighted avg       0.89      0.89      0.88      2114\n",
      "\n"
     ]
    }
   ],
   "source": [
    "#SVM\n",
    "from sklearn.metrics import classification_report\n",
    "#assume y_train and pred2_train are your true and predicted label\n",
    "print(classification_report(y_test,predictions2))"
   ]
  },
  {
   "cell_type": "code",
   "execution_count": 34,
   "id": "e6c0e63e",
   "metadata": {},
   "outputs": [
    {
     "name": "stdout",
     "output_type": "stream",
     "text": [
      "Accuracy_test: 0.8855250709555346\n",
      "Accuracy_train: 0.9329470198675497\n"
     ]
    }
   ],
   "source": [
    "#Logistic Regression\n",
    "print(\"Accuracy_test:\",accuracy_score(predictions,y_test))\n",
    "print(\"Accuracy_train:\",accuracy_score(pred_train,y_train))\n"
   ]
  },
  {
   "cell_type": "code",
   "execution_count": 35,
   "id": "0e140482",
   "metadata": {},
   "outputs": [
    {
     "name": "stdout",
     "output_type": "stream",
     "text": [
      "Accuracy_test: 0.8855250709555346\n",
      "Accuracy_train: 0.9329470198675497\n"
     ]
    }
   ],
   "source": [
    "#SVM\n",
    "print(\"Accuracy_test:\",accuracy_score(predictions2,y_test))\n",
    "print(\"Accuracy_train:\",accuracy_score(pred2_train,y_train))\n"
   ]
  },
  {
   "cell_type": "code",
   "execution_count": 36,
   "id": "27a58889",
   "metadata": {},
   "outputs": [],
   "source": [
    "from sklearn.model_selection import GridSearchCV, RandomizedSearchCV\n",
    "\n",
    "from sklearn.ensemble import RandomForestClassifier\n",
    "\n",
    "from sklearn.datasets import load_iris"
   ]
  },
  {
   "cell_type": "code",
   "execution_count": 37,
   "id": "4b0756e2",
   "metadata": {},
   "outputs": [
    {
     "name": "stdout",
     "output_type": "stream",
     "text": [
      "Best Parameters:  {'max_depth': None, 'min_samples_split': 2, 'n_estimators': 100}\n",
      "Best Score:  0.9666666666666668\n",
      "Best Parameters:  {'n_estimators': 50, 'min_samples_split': 5, 'max_depth': None}\n",
      "Best Score:  0.9666666666666668\n"
     ]
    }
   ],
   "source": [
    "\n",
    "\n",
    "# Load the dataset\n",
    "iris = load_iris()\n",
    "X, y = iris.data, iris.target\n",
    "\n",
    "# Define the model\n",
    "model = RandomForestClassifier()\n",
    "\n",
    "# Define the hyperparameter grid for GridSearchCV\n",
    "param_grid = {\n",
    "    'n_estimators': [10, 50, 100],\n",
    "    'max_depth': [None, 5, 10],\n",
    "    'min_samples_split': [2, 5, 10]\n",
    "}\n",
    "\n",
    "# Perform grid search\n",
    "grid_search = GridSearchCV(model, param_grid=param_grid, cv=5)\n",
    "grid_search.fit(X, y)\n",
    "\n",
    "# Print the best parameters and best score\n",
    "print(\"Best Parameters: \", grid_search.best_params_)\n",
    "print(\"Best Score: \", grid_search.best_score_)\n",
    "\n",
    "# Define the hyperparameter distributions for RandomizedSearchCV\n",
    "param_dist = {\n",
    "    'n_estimators': [10, 50, 100],\n",
    "    'max_depth': [None, 5, 10],\n",
    "    'min_samples_split': [2, 5, 10]\n",
    "}\n",
    "\n",
    "# Perform randomized search\n",
    "random_search = RandomizedSearchCV(model, param_distributions=param_dist, n_iter=10, cv=5)\n",
    "random_search.fit(X, y)\n",
    "\n",
    "# Print the best parameters and best score\n",
    "print(\"Best Parameters: \", random_search.best_params_)\n",
    "print(\"Best Score: \", random_search.best_score_)\n"
   ]
  },
  {
   "cell_type": "code",
   "execution_count": 38,
   "id": "3bf6ee8e",
   "metadata": {},
   "outputs": [],
   "source": [
    "import pickle"
   ]
  },
  {
   "cell_type": "code",
   "execution_count": 39,
   "id": "f1dde6fb",
   "metadata": {},
   "outputs": [],
   "source": [
    "with open('model_pickle','wb') as f:\n",
    "    pickle.dump(model,f)"
   ]
  },
  {
   "cell_type": "code",
   "execution_count": null,
   "id": "723a8964",
   "metadata": {},
   "outputs": [],
   "source": []
  }
 ],
 "metadata": {
  "kernelspec": {
   "display_name": "Python 3 (ipykernel)",
   "language": "python",
   "name": "python3"
  },
  "language_info": {
   "codemirror_mode": {
    "name": "ipython",
    "version": 3
   },
   "file_extension": ".py",
   "mimetype": "text/x-python",
   "name": "python",
   "nbconvert_exporter": "python",
   "pygments_lexer": "ipython3",
   "version": "3.10.9"
  }
 },
 "nbformat": 4,
 "nbformat_minor": 5
}
